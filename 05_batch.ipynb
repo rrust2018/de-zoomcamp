{
  "nbformat": 4,
  "nbformat_minor": 0,
  "metadata": {
    "colab": {
      "provenance": []
    },
    "kernelspec": {
      "name": "python3",
      "display_name": "Python 3"
    },
    "language_info": {
      "name": "python"
    }
  },
  "cells": [
    {
      "cell_type": "code",
      "execution_count": null,
      "metadata": {
        "id": "qNqN_-Pbp_fI"
      },
      "outputs": [],
      "source": [
        "%%capture\n",
        "\n",
        "! pip install pyspark"
      ]
    },
    {
      "cell_type": "code",
      "source": [
        "from pyspark.sql import SparkSession\n",
        "from pyspark.sql import functions as F\n",
        "from pyspark.sql import types"
      ],
      "metadata": {
        "id": "nssxKZgIqnXJ"
      },
      "execution_count": null,
      "outputs": []
    },
    {
      "cell_type": "code",
      "source": [
        "spark = SparkSession.builder \\\n",
        "    .master(\"local[*]\") \\\n",
        "    .appName(\"test\") \\\n",
        "    .getOrCreate()"
      ],
      "metadata": {
        "id": "HS2uEa_7qwbe"
      },
      "execution_count": null,
      "outputs": []
    },
    {
      "cell_type": "markdown",
      "source": [
        "# Question 1: Install Spark and PySpark\n",
        "\n",
        "# Install Spark\n",
        "\n",
        "# Run PySpark\n",
        "\n",
        "# Create a local spark session\n",
        "\n",
        "# Execute spark.version.\n",
        "\n",
        "# What's the output?"
      ],
      "metadata": {
        "id": "xy5aBDZNXm-g"
      }
    },
    {
      "cell_type": "code",
      "source": [
        "spark.version"
      ],
      "metadata": {
        "id": "PVF3hv0W7AaF"
      },
      "execution_count": null,
      "outputs": []
    },
    {
      "cell_type": "code",
      "source": [
        "! wget https://d37ci6vzurychx.cloudfront.net/trip-data/yellow_tripdata_2024-10.parquet"
      ],
      "metadata": {
        "id": "cOsS0HjrrsYH"
      },
      "execution_count": null,
      "outputs": []
    },
    {
      "cell_type": "code",
      "source": [
        "df = spark.read \\\n",
        "    .option(\"header\", \"true\") \\\n",
        "    .parquet(\"/content/yellow_tripdata_2024-10.parquet\")"
      ],
      "metadata": {
        "id": "0lTu6eF2sv9-"
      },
      "execution_count": null,
      "outputs": []
    },
    {
      "cell_type": "code",
      "source": [
        "df.printSchema()"
      ],
      "metadata": {
        "id": "hZ6U5_-sredL"
      },
      "execution_count": null,
      "outputs": []
    },
    {
      "cell_type": "markdown",
      "source": [
        "# Question 2: Yellow October 2024 Read the October 2024 Yellow into a Spark Dataframe.\n",
        "\n",
        "# Repartition the Dataframe to 4 partitions and save it to parquet.\n",
        "\n",
        "# What is the average size of the Parquet (ending with .parquet extension) Files that were created (in MB)?"
      ],
      "metadata": {
        "id": "YWcBCPqKX4OE"
      }
    },
    {
      "cell_type": "code",
      "source": [
        "df = df.repartition(4)"
      ],
      "metadata": {
        "id": "aKmZ8ZBg95RR"
      },
      "execution_count": null,
      "outputs": []
    },
    {
      "cell_type": "code",
      "source": [
        "df \\\n",
        "    .write \\\n",
        "    .mode(\"overwrite\") \\\n",
        "    .parquet(\"/content/pq/\")"
      ],
      "metadata": {
        "id": "nfdSZpa9YCp6"
      },
      "execution_count": null,
      "outputs": []
    },
    {
      "cell_type": "code",
      "source": [
        "! ls -ll pq"
      ],
      "metadata": {
        "id": "TsuGVUrhYD9y"
      },
      "execution_count": null,
      "outputs": []
    },
    {
      "cell_type": "markdown",
      "source": [
        "# Question 3: Count records\n",
        "\n",
        "# How many taxi trips were there on the 15th of October?\n",
        "\n",
        "# Consider only trips that started on the 15th of October."
      ],
      "metadata": {
        "id": "EoLoH-5FYJx2"
      }
    },
    {
      "cell_type": "code",
      "source": [
        "df \\\n",
        "    .withColumn(\"pickup_day\", F.to_date(df.tpep_pickup_datetime)) \\\n",
        "    .filter(\"pickup_day = '2024-10-15'\") \\\n",
        "    .count()"
      ],
      "metadata": {
        "id": "wgQn3zpvAViM"
      },
      "execution_count": null,
      "outputs": []
    },
    {
      "cell_type": "markdown",
      "source": [
        "# Question 4: Longest trip\n",
        "\n",
        "# What is the length of the longest trip in the dataset in hours?"
      ],
      "metadata": {
        "id": "6V76eQvOYWIw"
      }
    },
    {
      "cell_type": "code",
      "source": [
        "df \\\n",
        "    .withColumn(\"duration\", F.to_timestamp(df.tpep_dropoff_datetime).cast(\"long\") - F.to_timestamp(df.tpep_pickup_datetime).cast(\"long\")) \\\n",
        "    .withColumn(\"pickup_day\", F.to_date(df.tpep_pickup_datetime)) \\\n",
        "    .groupBy(\"pickup_day\") \\\n",
        "    .max(\"duration\") \\\n",
        "    .orderBy(\"max(duration)\", ascending=False) \\\n",
        "    .show()"
      ],
      "metadata": {
        "id": "taB-ln6mh5PF"
      },
      "execution_count": null,
      "outputs": []
    },
    {
      "cell_type": "markdown",
      "source": [
        "# Question 5: User Interface\n",
        "# Spark’s User Interface which shows the application's dashboard runs on which local port?"
      ],
      "metadata": {
        "id": "ufyB2ArEZWzy"
      }
    },
    {
      "cell_type": "markdown",
      "source": [
        "4040"
      ],
      "metadata": {
        "id": "RhPlnADqZb6I"
      }
    },
    {
      "cell_type": "markdown",
      "source": [
        "# Question 6: Least frequent pickup location zone\n",
        "\n",
        "# Load the zone lookup data into a temp view in Spark\n",
        "# Using the zone lookup data and the Yellow October 2024 data, what is the name of the LEAST frequent pickup location Zone?"
      ],
      "metadata": {
        "id": "TMUFuN_5Zuyg"
      }
    },
    {
      "cell_type": "code",
      "source": [
        "! wget wget https://d37ci6vzurychx.cloudfront.net/misc/taxi_zone_lookup.csv"
      ],
      "metadata": {
        "id": "bICOXHlEZjxo"
      },
      "execution_count": null,
      "outputs": []
    },
    {
      "cell_type": "code",
      "source": [
        "df_zones = spark.read \\\n",
        "    .option(\"header\", \"true\") \\\n",
        "    .csv(\"/content/taxi_zone_lookup.csv\")"
      ],
      "metadata": {
        "id": "yssvEAC_cPbw"
      },
      "execution_count": null,
      "outputs": []
    },
    {
      "cell_type": "code",
      "source": [
        "df_zones.printSchema()"
      ],
      "metadata": {
        "id": "6DnFZdSzdSl1"
      },
      "execution_count": null,
      "outputs": []
    },
    {
      "cell_type": "code",
      "source": [
        "df.createOrReplaceTempView(\"yellow\")"
      ],
      "metadata": {
        "id": "jZIRI7flaCEI"
      },
      "execution_count": null,
      "outputs": []
    },
    {
      "cell_type": "code",
      "source": [
        "df_zones.createOrReplaceTempView(\"zones\")"
      ],
      "metadata": {
        "id": "2ynxepT6c2OV"
      },
      "execution_count": null,
      "outputs": []
    },
    {
      "cell_type": "code",
      "source": [
        "df_yellow_trips = spark.sql(\"\"\"\n",
        "select\n",
        "    t.PULocationID as pickup_zone,\n",
        "    z.Zone as zone_name,\n",
        "    count(*) as cnt\n",
        "from\n",
        "    yellow as t\n",
        "    inner join zones as z on t.PULocationID = z.LocationID\n",
        "where\n",
        "    tpep_pickup_datetime >= '2024-10-01 00:00:00'\n",
        "group by\n",
        "    PULocationID,\n",
        "    z.Zone\n",
        "order by\n",
        "    count(*)\n",
        "\"\"\")"
      ],
      "metadata": {
        "id": "JLunplfFbCSr"
      },
      "execution_count": null,
      "outputs": []
    },
    {
      "cell_type": "code",
      "source": [
        "df_yellow_trips.show(truncate=False)"
      ],
      "metadata": {
        "id": "hVL0mOtxb8Y2"
      },
      "execution_count": null,
      "outputs": []
    }
  ]
}