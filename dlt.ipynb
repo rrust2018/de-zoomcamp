{
  "nbformat": 4,
  "nbformat_minor": 0,
  "metadata": {
    "colab": {
      "provenance": []
    },
    "kernelspec": {
      "name": "python3",
      "display_name": "Python 3"
    },
    "language_info": {
      "name": "python"
    }
  },
  "cells": [
    {
      "cell_type": "markdown",
      "source": [
        "https://us-central1-dlthub-analytics.cloudfunctions.net/data_engineering_zoomcamp_api"
      ],
      "metadata": {
        "id": "vQFlay5AjgRF"
      }
    },
    {
      "cell_type": "code",
      "source": [
        "! pip install dlt[duckdb]"
      ],
      "metadata": {
        "id": "Mf3PKge20NYL"
      },
      "execution_count": null,
      "outputs": []
    },
    {
      "cell_type": "code",
      "source": [
        "! dlt --version"
      ],
      "metadata": {
        "id": "7u1GiohMj2eA"
      },
      "execution_count": null,
      "outputs": []
    },
    {
      "cell_type": "code",
      "source": [
        "import dlt\n",
        "from dlt.sources.helpers.rest_client.client import RESTClient\n",
        "from dlt.sources.helpers.rest_client.paginators import PageNumberPaginator\n",
        "\n",
        "@dlt.resource(name=\"rides\")\n",
        "def ny_taxi():\n",
        "    client = RESTClient(\n",
        "        base_url = \"https://us-central1-dlthub-analytics.cloudfunctions.net\",\n",
        "        paginator = PageNumberPaginator(\n",
        "            base_page = 1,\n",
        "            total_path = None\n",
        "        )\n",
        "    )\n",
        "\n",
        "    for page in client.paginate(\"data_engineering_zoomcamp_api\"):\n",
        "        yield page\n",
        "\n",
        "pipeline = dlt.pipeline(\n",
        "    pipeline_name = \"ny_taxi_pipeline\",\n",
        "    destination = \"duckdb\",\n",
        "    dataset_name = \"ny_tax_data\"\n",
        ")"
      ],
      "metadata": {
        "id": "5zBJLYGjkCZ4"
      },
      "execution_count": null,
      "outputs": []
    },
    {
      "cell_type": "code",
      "source": [
        "load_info = pipeline.run(ny_taxi)\n",
        "print(load_info)"
      ],
      "metadata": {
        "id": "tuffj9mvmYNb"
      },
      "execution_count": null,
      "outputs": []
    },
    {
      "cell_type": "code",
      "source": [
        "import duckdb\n",
        "from google.colab import data_table\n",
        "data_table.enable_dataframe_formatter()\n",
        "\n",
        "conn = duckdb.connect(f\"{pipeline.pipeline_name}.duckdb\")\n",
        "\n",
        "conn.sql(f\"SET search_path = '{pipeline.dataset_name}'\")\n",
        "\n",
        "conn.sql(\"DESCRIBE\").df()"
      ],
      "metadata": {
        "id": "VYmaH_2im0BE"
      },
      "execution_count": null,
      "outputs": []
    },
    {
      "cell_type": "code",
      "source": [
        "df = pipeline.dataset(dataset_type=\"default\").rides.df()\n",
        "\n",
        "df.shape"
      ],
      "metadata": {
        "id": "prbbc3j5ngls"
      },
      "execution_count": null,
      "outputs": []
    },
    {
      "cell_type": "code",
      "source": [
        "with pipeline.sql_client() as client:\n",
        "    res = client.execute_sql(\n",
        "        \"\"\"\n",
        "        select avg(date_diff('minute', trip_pickup_date_time, trip_dropoff_date_time))\n",
        "        from rides;\n",
        "        \"\"\"\n",
        "    )\n",
        "\n",
        "    print(res)"
      ],
      "metadata": {
        "id": "Txla1hQpoDh9"
      },
      "execution_count": null,
      "outputs": []
    }
  ]
}